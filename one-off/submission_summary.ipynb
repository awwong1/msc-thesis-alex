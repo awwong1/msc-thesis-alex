{
 "cells": [
  {
   "cell_type": "markdown",
   "metadata": {},
   "source": [
    "Magic Abram pdf parsing bash pipeline\n",
    "\n",
    "```bash\n",
    "find -iname '*.pdf' -print0 | xargs -0 -i pdftotext {} ; find -iname '*.txt' -print0 | xargs -0 grep -i convolution\n",
    "```"
   ]
  },
  {
   "cell_type": "code",
   "execution_count": 1,
   "metadata": {},
   "outputs": [],
   "source": [
    "from glob import glob"
   ]
  },
  {
   "cell_type": "code",
   "execution_count": 2,
   "metadata": {},
   "outputs": [
    {
     "name": "stdout",
     "output_type": "stream",
     "text": [
      "62\n"
     ]
    }
   ],
   "source": [
    "all_papers = glob(\"*.pdf\")\n",
    "total_papers = len(all_papers)\n",
    "print(total_papers)\n",
    "paper_ids = [ap.split(\".pdf\")[0] for ap in all_papers]"
   ]
  },
  {
   "cell_type": "code",
   "execution_count": 3,
   "metadata": {},
   "outputs": [],
   "source": [
    "!find -iname '*.pdf' -print0 | xargs -0 -i pdftotext {}"
   ]
  },
  {
   "cell_type": "code",
   "execution_count": 4,
   "metadata": {},
   "outputs": [],
   "source": [
    "!find -iname '*.txt' -print0 | xargs -0 grep -i -e 'cnn' -e 'convolution' -e 'convolutional' > has_cnn"
   ]
  },
  {
   "cell_type": "code",
   "execution_count": 5,
   "metadata": {},
   "outputs": [
    {
     "name": "stdout",
     "output_type": "stream",
     "text": [
      "54 0.8709677419354839\n",
      "['107', '112', '116', '124', '127', '130', '133', '134', '135', '138', '139', '144', '148', '161', '162', '189', '196', '198', '202', '225', '227', '229', '236', '253', '277', '281', '282', '285', '305', '32', '328', '339', '340', '349', '35', '353', '356', '374', '39', '406', '417', '424', '435', '44', '445', '456', '462', '61', '63', '7', '72', '74', '85', '95']\n"
     ]
    }
   ],
   "source": [
    "with open(\"has_cnn\") as f:\n",
    "    has_cnn_lines = f.readlines()\n",
    "contains_cnn = {}\n",
    "for hcl in has_cnn_lines:\n",
    "    num, txt = hcl.split(\".txt:\")\n",
    "    num = num[2:]\n",
    "    contains_cnn[num] = True\n",
    "    # print(num, txt)\n",
    "print(len(contains_cnn), len(contains_cnn) / total_papers)\n",
    "print(sorted(list(contains_cnn.keys())))"
   ]
  },
  {
   "cell_type": "code",
   "execution_count": 6,
   "metadata": {},
   "outputs": [],
   "source": [
    "!find -iname '*.txt' -print0 | xargs -0 grep -i -e 'rnn' -e 'recurrent' -e 'lstm' > has_rnn"
   ]
  },
  {
   "cell_type": "code",
   "execution_count": 7,
   "metadata": {},
   "outputs": [
    {
     "name": "stdout",
     "output_type": "stream",
     "text": [
      "32 0.5161290322580645\n",
      "['107', '127', '133', '134', '135', '138', '139', '144', '148', '161', '162', '196', '198', '202', '225', '253', '307', '32', '339', '35', '356', '39', '406', '417', '424', '44', '445', '462', '63', '7', '74', '95']\n"
     ]
    }
   ],
   "source": [
    "with open(\"has_rnn\") as f:\n",
    "    has_rnn_lines = f.readlines()\n",
    "contains_rnn = {}\n",
    "for hcl in has_rnn_lines:\n",
    "    num, txt = hcl.split(\".txt:\")\n",
    "    num = num[2:]\n",
    "    contains_rnn[num] = True\n",
    "    # print(num, txt)\n",
    "print(len(contains_rnn), len(contains_rnn) / total_papers)\n",
    "print(sorted(list(contains_rnn.keys())))"
   ]
  },
  {
   "cell_type": "code",
   "execution_count": 8,
   "metadata": {},
   "outputs": [],
   "source": [
    "!find -iname '*.txt' -print0 | xargs -0 grep -i -e 'lstm' > has_lstm"
   ]
  },
  {
   "cell_type": "code",
   "execution_count": 9,
   "metadata": {},
   "outputs": [
    {
     "name": "stdout",
     "output_type": "stream",
     "text": [
      "17 0.27419354838709675\n",
      "['127', '138', '139', '144', '161', '196', '225', '307', '339', '356', '39', '417', '424', '44', '445', '462', '74']\n"
     ]
    }
   ],
   "source": [
    "with open(\"has_lstm\") as f:\n",
    "    has_lstm_lines = f.readlines()\n",
    "contains_lstm = {}\n",
    "for hcl in has_lstm_lines:\n",
    "    num, txt = hcl.split(\".txt:\")\n",
    "    num = num[2:]\n",
    "    contains_lstm[num] = True\n",
    "    # print(num, txt)\n",
    "print(len(contains_lstm), len(contains_lstm) / total_papers)\n",
    "print(sorted(list(contains_lstm.keys())))"
   ]
  },
  {
   "cell_type": "code",
   "execution_count": 10,
   "metadata": {},
   "outputs": [],
   "source": [
    "!find -iname '*.txt' -print0 | xargs -0 grep -i -e 'transformer' > has_transformer"
   ]
  },
  {
   "cell_type": "code",
   "execution_count": 11,
   "metadata": {},
   "outputs": [
    {
     "name": "stdout",
     "output_type": "stream",
     "text": [
      "3 0.04838709677419355\n",
      "['107', '282', '63']\n"
     ]
    }
   ],
   "source": [
    "with open(\"has_transformer\") as f:\n",
    "    has_trans_lines = f.readlines()\n",
    "contains_trans = {}\n",
    "for hcl in has_trans_lines:\n",
    "    num, txt = hcl.split(\".txt:\")\n",
    "    num = num[2:]\n",
    "    contains_trans[num] = True\n",
    "    # print(num, txt)\n",
    "print(len(contains_trans), len(contains_trans) / total_papers)\n",
    "print(sorted(list(contains_trans.keys())))"
   ]
  },
  {
   "cell_type": "code",
   "execution_count": 12,
   "metadata": {},
   "outputs": [],
   "source": [
    "!find -iname '*.txt' -print0 | xargs -0 grep -i -e 'tree' > has_tree"
   ]
  },
  {
   "cell_type": "code",
   "execution_count": 13,
   "metadata": {},
   "outputs": [
    {
     "name": "stdout",
     "output_type": "stream",
     "text": [
      "18 0.2903225806451613\n",
      "['128', '134', '139', '148', '171', '185', '217', '282', '285', '297', '32', '356', '363', '39', '417', '435', '445', '61']\n"
     ]
    }
   ],
   "source": [
    "with open(\"has_tree\") as f:\n",
    "    has_tree_lines = f.readlines()\n",
    "contains_tree = {}\n",
    "for hcl in has_tree_lines:\n",
    "    num, txt = hcl.split(\".txt:\")\n",
    "    num = num[2:]\n",
    "    contains_tree[num] = True\n",
    "    # print(num, txt)\n",
    "print(len(contains_tree), len(contains_tree) / total_papers)\n",
    "print(sorted(list(contains_tree.keys())))"
   ]
  },
  {
   "cell_type": "code",
   "execution_count": 14,
   "metadata": {},
   "outputs": [],
   "source": [
    "!find -iname '*.txt' -print0 | xargs -0 grep -i -e 'neural network' > has_nn"
   ]
  },
  {
   "cell_type": "code",
   "execution_count": 15,
   "metadata": {},
   "outputs": [
    {
     "name": "stdout",
     "output_type": "stream",
     "text": [
      "56\n",
      "['107', '112', '116', '124', '127', '128', '130', '133', '134', '135', '138', '139', '144', '148', '161', '162', '189', '196', '198', '202', '225', '227', '229', '236', '253', '277', '281', '282', '285', '305', '32', '328', '339', '340', '349', '35', '353', '356', '374', '39', '406', '417', '424', '435', '44', '445', '456', '462', '61', '63', '7', '71', '72', '74', '85', '95']\n"
     ]
    }
   ],
   "source": [
    "with open(\"has_nn\") as f:\n",
    "    has_nn_lines = f.readlines()\n",
    "contains_nn = {}\n",
    "for hcl in has_nn_lines:\n",
    "    num, txt = hcl.split(\".txt:\")\n",
    "    num = num[2:]\n",
    "    contains_nn[num] = True\n",
    "    # print(num, txt)\n",
    "print(len(contains_nn))\n",
    "print(sorted(list(contains_nn.keys())))"
   ]
  },
  {
   "cell_type": "code",
   "execution_count": 18,
   "metadata": {},
   "outputs": [
    {
     "name": "stdout",
     "output_type": "stream",
     "text": [
      "128\n",
      "171\n",
      "185\n",
      "217\n",
      "297\n",
      "363\n",
      "71\n"
     ]
    },
    {
     "data": {
      "text/plain": [
       "0.11290322580645161"
      ]
     },
     "execution_count": 18,
     "metadata": {},
     "output_type": "execute_result"
    }
   ],
   "source": [
    "# weirdos that don't use deep learning\n",
    "weirdo_counter = 0\n",
    "for paper_id in paper_ids:\n",
    "    if paper_id not in contains_cnn and paper_id not in contains_rnn and paper_id not in contains_lstm:\n",
    "        print(paper_id)\n",
    "        weirdo_counter += 1\n",
    "\n",
    "weirdo_counter / total_papers"
   ]
  },
  {
   "cell_type": "markdown",
   "metadata": {},
   "source": [
    "# manual check"
   ]
  },
  {
   "cell_type": "code",
   "execution_count": 17,
   "metadata": {},
   "outputs": [],
   "source": [
    "paper_cnn_type = {\n",
    "    198: True, # ECG Classification With a Convolutional Recurrent Neural Network\n",
    "    189: True, # ECG Abnormalities Recognition Using Convolutional Network With Global Skip Connections and Custom Loss Function\n",
    "    # 171 Decision trees\n",
    "    171: False, # Cardiac Pathologies Detection and Classification in 12-lead ECG\n",
    "\n",
    "}"
   ]
  },
  {
   "cell_type": "code",
   "execution_count": null,
   "metadata": {},
   "outputs": [],
   "source": []
  },
  {
   "cell_type": "code",
   "execution_count": null,
   "metadata": {},
   "outputs": [],
   "source": []
  }
 ],
 "metadata": {
  "kernelspec": {
   "display_name": "Python 3",
   "language": "python",
   "name": "python3"
  },
  "language_info": {
   "codemirror_mode": {
    "name": "ipython",
    "version": 3
   },
   "file_extension": ".py",
   "mimetype": "text/x-python",
   "name": "python",
   "nbconvert_exporter": "python",
   "pygments_lexer": "ipython3",
   "version": "3.7.3"
  }
 },
 "nbformat": 4,
 "nbformat_minor": 4
}
